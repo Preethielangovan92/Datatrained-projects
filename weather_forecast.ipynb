{
 "cells": [
  {
   "cell_type": "markdown",
   "metadata": {},
   "source": [
    "importing libraries"
   ]
  },
  {
   "cell_type": "code",
   "execution_count": 1,
   "metadata": {},
   "outputs": [],
   "source": [
    "import numpy as np\n",
    "import pandas as pd\n",
    "import seaborn as sns\n",
    "import matplotlib.pyplot as plt"
   ]
  },
  {
   "cell_type": "markdown",
   "metadata": {},
   "source": [
    "loading the data"
   ]
  },
  {
   "cell_type": "code",
   "execution_count": 2,
   "metadata": {},
   "outputs": [
    {
     "data": {
      "text/html": [
       "<div>\n",
       "<style scoped>\n",
       "    .dataframe tbody tr th:only-of-type {\n",
       "        vertical-align: middle;\n",
       "    }\n",
       "\n",
       "    .dataframe tbody tr th {\n",
       "        vertical-align: top;\n",
       "    }\n",
       "\n",
       "    .dataframe thead th {\n",
       "        text-align: right;\n",
       "    }\n",
       "</style>\n",
       "<table border=\"1\" class=\"dataframe\">\n",
       "  <thead>\n",
       "    <tr style=\"text-align: right;\">\n",
       "      <th></th>\n",
       "      <th>station</th>\n",
       "      <th>Present_Tmax</th>\n",
       "      <th>Present_Tmin</th>\n",
       "      <th>LDAPS_RHmin</th>\n",
       "      <th>LDAPS_RHmax</th>\n",
       "      <th>LDAPS_Tmax_lapse</th>\n",
       "      <th>LDAPS_Tmin_lapse</th>\n",
       "      <th>LDAPS_WS</th>\n",
       "      <th>LDAPS_LH</th>\n",
       "      <th>LDAPS_CC1</th>\n",
       "      <th>...</th>\n",
       "      <th>LDAPS_PPT2</th>\n",
       "      <th>LDAPS_PPT3</th>\n",
       "      <th>LDAPS_PPT4</th>\n",
       "      <th>lat</th>\n",
       "      <th>lon</th>\n",
       "      <th>DEM</th>\n",
       "      <th>Slope</th>\n",
       "      <th>Solar radiation</th>\n",
       "      <th>Next_Tmax</th>\n",
       "      <th>Next_Tmin</th>\n",
       "    </tr>\n",
       "    <tr>\n",
       "      <th>Date</th>\n",
       "      <th></th>\n",
       "      <th></th>\n",
       "      <th></th>\n",
       "      <th></th>\n",
       "      <th></th>\n",
       "      <th></th>\n",
       "      <th></th>\n",
       "      <th></th>\n",
       "      <th></th>\n",
       "      <th></th>\n",
       "      <th></th>\n",
       "      <th></th>\n",
       "      <th></th>\n",
       "      <th></th>\n",
       "      <th></th>\n",
       "      <th></th>\n",
       "      <th></th>\n",
       "      <th></th>\n",
       "      <th></th>\n",
       "      <th></th>\n",
       "      <th></th>\n",
       "    </tr>\n",
       "  </thead>\n",
       "  <tbody>\n",
       "    <tr>\n",
       "      <th>2013-06-30</th>\n",
       "      <td>1.0</td>\n",
       "      <td>28.7</td>\n",
       "      <td>21.4</td>\n",
       "      <td>58.255688</td>\n",
       "      <td>91.116364</td>\n",
       "      <td>28.074101</td>\n",
       "      <td>23.006936</td>\n",
       "      <td>6.818887</td>\n",
       "      <td>69.451805</td>\n",
       "      <td>0.233947</td>\n",
       "      <td>...</td>\n",
       "      <td>0.0</td>\n",
       "      <td>0.0</td>\n",
       "      <td>0.0</td>\n",
       "      <td>37.6046</td>\n",
       "      <td>126.991</td>\n",
       "      <td>212.3350</td>\n",
       "      <td>2.7850</td>\n",
       "      <td>5992.895996</td>\n",
       "      <td>29.1</td>\n",
       "      <td>21.2</td>\n",
       "    </tr>\n",
       "    <tr>\n",
       "      <th>2013-06-30</th>\n",
       "      <td>2.0</td>\n",
       "      <td>31.9</td>\n",
       "      <td>21.6</td>\n",
       "      <td>52.263397</td>\n",
       "      <td>90.604721</td>\n",
       "      <td>29.850689</td>\n",
       "      <td>24.035009</td>\n",
       "      <td>5.691890</td>\n",
       "      <td>51.937448</td>\n",
       "      <td>0.225508</td>\n",
       "      <td>...</td>\n",
       "      <td>0.0</td>\n",
       "      <td>0.0</td>\n",
       "      <td>0.0</td>\n",
       "      <td>37.6046</td>\n",
       "      <td>127.032</td>\n",
       "      <td>44.7624</td>\n",
       "      <td>0.5141</td>\n",
       "      <td>5869.312500</td>\n",
       "      <td>30.5</td>\n",
       "      <td>22.5</td>\n",
       "    </tr>\n",
       "    <tr>\n",
       "      <th>2013-06-30</th>\n",
       "      <td>3.0</td>\n",
       "      <td>31.6</td>\n",
       "      <td>23.3</td>\n",
       "      <td>48.690479</td>\n",
       "      <td>83.973587</td>\n",
       "      <td>30.091292</td>\n",
       "      <td>24.565633</td>\n",
       "      <td>6.138224</td>\n",
       "      <td>20.573050</td>\n",
       "      <td>0.209344</td>\n",
       "      <td>...</td>\n",
       "      <td>0.0</td>\n",
       "      <td>0.0</td>\n",
       "      <td>0.0</td>\n",
       "      <td>37.5776</td>\n",
       "      <td>127.058</td>\n",
       "      <td>33.3068</td>\n",
       "      <td>0.2661</td>\n",
       "      <td>5863.555664</td>\n",
       "      <td>31.1</td>\n",
       "      <td>23.9</td>\n",
       "    </tr>\n",
       "    <tr>\n",
       "      <th>2013-06-30</th>\n",
       "      <td>4.0</td>\n",
       "      <td>32.0</td>\n",
       "      <td>23.4</td>\n",
       "      <td>58.239788</td>\n",
       "      <td>96.483688</td>\n",
       "      <td>29.704629</td>\n",
       "      <td>23.326177</td>\n",
       "      <td>5.650050</td>\n",
       "      <td>65.727144</td>\n",
       "      <td>0.216372</td>\n",
       "      <td>...</td>\n",
       "      <td>0.0</td>\n",
       "      <td>0.0</td>\n",
       "      <td>0.0</td>\n",
       "      <td>37.6450</td>\n",
       "      <td>127.022</td>\n",
       "      <td>45.7160</td>\n",
       "      <td>2.5348</td>\n",
       "      <td>5856.964844</td>\n",
       "      <td>31.7</td>\n",
       "      <td>24.3</td>\n",
       "    </tr>\n",
       "    <tr>\n",
       "      <th>2013-06-30</th>\n",
       "      <td>5.0</td>\n",
       "      <td>31.4</td>\n",
       "      <td>21.9</td>\n",
       "      <td>56.174095</td>\n",
       "      <td>90.155128</td>\n",
       "      <td>29.113934</td>\n",
       "      <td>23.486480</td>\n",
       "      <td>5.735004</td>\n",
       "      <td>107.965535</td>\n",
       "      <td>0.151407</td>\n",
       "      <td>...</td>\n",
       "      <td>0.0</td>\n",
       "      <td>0.0</td>\n",
       "      <td>0.0</td>\n",
       "      <td>37.5507</td>\n",
       "      <td>127.135</td>\n",
       "      <td>35.0380</td>\n",
       "      <td>0.5055</td>\n",
       "      <td>5859.552246</td>\n",
       "      <td>31.2</td>\n",
       "      <td>22.5</td>\n",
       "    </tr>\n",
       "  </tbody>\n",
       "</table>\n",
       "<p>5 rows × 24 columns</p>\n",
       "</div>"
      ],
      "text/plain": [
       "            station  Present_Tmax  Present_Tmin  LDAPS_RHmin  LDAPS_RHmax  \\\n",
       "Date                                                                        \n",
       "2013-06-30      1.0          28.7          21.4    58.255688    91.116364   \n",
       "2013-06-30      2.0          31.9          21.6    52.263397    90.604721   \n",
       "2013-06-30      3.0          31.6          23.3    48.690479    83.973587   \n",
       "2013-06-30      4.0          32.0          23.4    58.239788    96.483688   \n",
       "2013-06-30      5.0          31.4          21.9    56.174095    90.155128   \n",
       "\n",
       "            LDAPS_Tmax_lapse  LDAPS_Tmin_lapse  LDAPS_WS    LDAPS_LH  \\\n",
       "Date                                                                   \n",
       "2013-06-30         28.074101         23.006936  6.818887   69.451805   \n",
       "2013-06-30         29.850689         24.035009  5.691890   51.937448   \n",
       "2013-06-30         30.091292         24.565633  6.138224   20.573050   \n",
       "2013-06-30         29.704629         23.326177  5.650050   65.727144   \n",
       "2013-06-30         29.113934         23.486480  5.735004  107.965535   \n",
       "\n",
       "            LDAPS_CC1  ...  LDAPS_PPT2  LDAPS_PPT3  LDAPS_PPT4      lat  \\\n",
       "Date                   ...                                                \n",
       "2013-06-30   0.233947  ...         0.0         0.0         0.0  37.6046   \n",
       "2013-06-30   0.225508  ...         0.0         0.0         0.0  37.6046   \n",
       "2013-06-30   0.209344  ...         0.0         0.0         0.0  37.5776   \n",
       "2013-06-30   0.216372  ...         0.0         0.0         0.0  37.6450   \n",
       "2013-06-30   0.151407  ...         0.0         0.0         0.0  37.5507   \n",
       "\n",
       "                lon       DEM   Slope  Solar radiation  Next_Tmax  Next_Tmin  \n",
       "Date                                                                          \n",
       "2013-06-30  126.991  212.3350  2.7850      5992.895996       29.1       21.2  \n",
       "2013-06-30  127.032   44.7624  0.5141      5869.312500       30.5       22.5  \n",
       "2013-06-30  127.058   33.3068  0.2661      5863.555664       31.1       23.9  \n",
       "2013-06-30  127.022   45.7160  2.5348      5856.964844       31.7       24.3  \n",
       "2013-06-30  127.135   35.0380  0.5055      5859.552246       31.2       22.5  \n",
       "\n",
       "[5 rows x 24 columns]"
      ]
     },
     "execution_count": 2,
     "metadata": {},
     "output_type": "execute_result"
    }
   ],
   "source": [
    "df=pd.read_csv(\"weather_forecast.csv\",index_col='Date',parse_dates=True)\n",
    "df.head()"
   ]
  },
  {
   "cell_type": "markdown",
   "metadata": {},
   "source": [
    "we are going to split the date in to year, month and day"
   ]
  },
  {
   "cell_type": "code",
   "execution_count": 3,
   "metadata": {},
   "outputs": [],
   "source": [
    "df.reset_index(inplace=True)\n",
    "df['Year']=df['Date'].dt.year\n",
    "df['Month']=df['Date'].dt.month\n",
    "df['Day']=df['Date'].dt.day\n",
    "df.set_index('Date',inplace=True)"
   ]
  },
  {
   "cell_type": "code",
   "execution_count": 4,
   "metadata": {},
   "outputs": [
    {
     "name": "stdout",
     "output_type": "stream",
     "text": [
      "Getting the info:\n",
      "<class 'pandas.core.frame.DataFrame'>\n",
      "DatetimeIndex: 7752 entries, 2013-06-30 to NaT\n",
      "Data columns (total 27 columns):\n",
      " #   Column            Non-Null Count  Dtype  \n",
      "---  ------            --------------  -----  \n",
      " 0   station           7750 non-null   float64\n",
      " 1   Present_Tmax      7682 non-null   float64\n",
      " 2   Present_Tmin      7682 non-null   float64\n",
      " 3   LDAPS_RHmin       7677 non-null   float64\n",
      " 4   LDAPS_RHmax       7677 non-null   float64\n",
      " 5   LDAPS_Tmax_lapse  7677 non-null   float64\n",
      " 6   LDAPS_Tmin_lapse  7677 non-null   float64\n",
      " 7   LDAPS_WS          7677 non-null   float64\n",
      " 8   LDAPS_LH          7677 non-null   float64\n",
      " 9   LDAPS_CC1         7677 non-null   float64\n",
      " 10  LDAPS_CC2         7677 non-null   float64\n",
      " 11  LDAPS_CC3         7677 non-null   float64\n",
      " 12  LDAPS_CC4         7677 non-null   float64\n",
      " 13  LDAPS_PPT1        7677 non-null   float64\n",
      " 14  LDAPS_PPT2        7677 non-null   float64\n",
      " 15  LDAPS_PPT3        7677 non-null   float64\n",
      " 16  LDAPS_PPT4        7677 non-null   float64\n",
      " 17  lat               7752 non-null   float64\n",
      " 18  lon               7752 non-null   float64\n",
      " 19  DEM               7752 non-null   float64\n",
      " 20  Slope             7752 non-null   float64\n",
      " 21  Solar radiation   7752 non-null   float64\n",
      " 22  Next_Tmax         7725 non-null   float64\n",
      " 23  Next_Tmin         7725 non-null   float64\n",
      " 24  Year              7750 non-null   float64\n",
      " 25  Month             7750 non-null   float64\n",
      " 26  Day               7750 non-null   float64\n",
      "dtypes: float64(27)\n",
      "memory usage: 1.7 MB\n",
      "None\n"
     ]
    }
   ],
   "source": [
    "print('Getting the info:')\n",
    "print(df.info())"
   ]
  },
  {
   "cell_type": "markdown",
   "metadata": {},
   "source": [
    "from the above information we get to know that null values are present in the 'station'&'date'columns.so all the missing values can filled by checking theirvalues are present intheir respective indices"
   ]
  },
  {
   "cell_type": "code",
   "execution_count": 5,
   "metadata": {},
   "outputs": [],
   "source": [
    "#checking the indices are present in the list\n",
    "index_present_tmax=df['Present_Tmax'].index[df['Present_Tmax'].apply(np.isnan)]\n",
    "index_present_tmax=df['Present_Tmin'].index[df['Present_Tmin'].apply(np.isnan)]\n",
    "\n",
    "index_next_tmax=df['Next_Tmax'].index[df['Next_Tmax'].apply(np.isnan)]\n",
    "index_next_tmax=df['Next_Tmin'].index[df['Next_Tmin'].apply(np.isnan)]\n",
    "\n",
    "index_LDAPS_RHmax=df['LDAPS_RHmax'].index[df['LDAPS_RHmax'].apply(np.isnan)]\n",
    "index_LDAPS_RHmin=df['LDAPS_RHmin'].index[df['LDAPS_RHmin'].apply(np.isnan)]\n",
    "\n",
    "index_Tmax_lapse=df['LDAPS_Tmax_lapse'].index[df['LDAPS_Tmax_lapse'].apply(np.isnan)]\n",
    "index_Tmin_lapse=df['LDAPS_Tmin_lapse'].index[df['LDAPS_Tmin_lapse'].apply(np.isnan)]\n",
    "\n",
    "index_LDAPS_WS=df['LDAPS_WS'].index[df['LDAPS_WS'].apply(np.isnan)]\n",
    "index_LDAPS_LH=df['LDAPS_LH'].index[df['LDAPS_LH'].apply(np.isnan)]\n",
    "\n",
    "index_LDAPS_CC1=df['LDAPS_CC1'].index[df['LDAPS_CC1'].apply(np.isnan)]\n",
    "index_LDAPS_CC2=df['LDAPS_CC2'].index[df['LDAPS_CC2'].apply(np.isnan)]\n",
    "index_LDAPS_CC3=df['LDAPS_CC3'].index[df['LDAPS_CC3'].apply(np.isnan)]\n",
    "index_LDAPS_CC4=df['LDAPS_CC4'].index[df['LDAPS_CC4'].apply(np.isnan)]\n",
    "\n",
    "index_LDAPS_PPT1=df['LDAPS_PPT1'].index[df['LDAPS_PPT1'].apply(np.isnan)]\n",
    "index_LDAPS_PPT2=df['LDAPS_PPT2'].index[df['LDAPS_PPT2'].apply(np.isnan)]\n",
    "index_LDAPS_PPT3=df['LDAPS_PPT3'].index[df['LDAPS_PPT3'].apply(np.isnan)]\n",
    "index_LDAPS_PPT4=df['LDAPS_PPT4'].index[df['LDAPS_PPT4'].apply(np.isnan)]\n"
   ]
  },
  {
   "cell_type": "code",
   "execution_count": 6,
   "metadata": {},
   "outputs": [
    {
     "ename": "NameError",
     "evalue": "name 'index_present_tmin' is not defined",
     "output_type": "error",
     "traceback": [
      "\u001b[1;31m---------------------------------------------------------------------------\u001b[0m",
      "\u001b[1;31mNameError\u001b[0m                                 Traceback (most recent call last)",
      "\u001b[1;32m<ipython-input-6-2c8b769f7b17>\u001b[0m in \u001b[0;36m<module>\u001b[1;34m\u001b[0m\n\u001b[0;32m      1\u001b[0m \u001b[1;31m#checking null values are present in the indices\u001b[0m\u001b[1;33m\u001b[0m\u001b[1;33m\u001b[0m\u001b[1;33m\u001b[0m\u001b[0m\n\u001b[1;32m----> 2\u001b[1;33m \u001b[1;32mif\u001b[0m \u001b[0mlist\u001b[0m\u001b[1;33m(\u001b[0m\u001b[0mindex_present_tmax\u001b[0m\u001b[1;33m)\u001b[0m\u001b[1;33m==\u001b[0m\u001b[0mlist\u001b[0m\u001b[1;33m(\u001b[0m\u001b[0mindex_present_tmin\u001b[0m\u001b[1;33m)\u001b[0m\u001b[1;33m:\u001b[0m\u001b[1;33m\u001b[0m\u001b[1;33m\u001b[0m\u001b[0m\n\u001b[0m\u001b[0;32m      3\u001b[0m     \u001b[0mprint\u001b[0m\u001b[1;33m(\u001b[0m\u001b[1;34m'Lists are identical'\u001b[0m\u001b[1;33m)\u001b[0m\u001b[1;33m\u001b[0m\u001b[1;33m\u001b[0m\u001b[0m\n\u001b[0;32m      4\u001b[0m \u001b[1;32melse\u001b[0m\u001b[1;33m:\u001b[0m\u001b[0mprint\u001b[0m\u001b[1;33m(\u001b[0m\u001b[1;34m'Unidentical lists'\u001b[0m\u001b[1;33m)\u001b[0m\u001b[1;33m\u001b[0m\u001b[1;33m\u001b[0m\u001b[0m\n\u001b[0;32m      5\u001b[0m \u001b[1;33m\u001b[0m\u001b[0m\n",
      "\u001b[1;31mNameError\u001b[0m: name 'index_present_tmin' is not defined"
     ]
    }
   ],
   "source": [
    "#checking null values are present in the indices\n",
    "if list(index_present_tmax)==list(index_present_tmin):\n",
    "    print('Lists are identical')\n",
    "else:print('Unidentical lists')\n",
    "        \n",
    "if list(index_next_tmax)==list(index_next_tmax):\n",
    "    print('Lists are identical')\n",
    "else:print('Unidentical lists')\n",
    "        \n",
    "if list(index_LDAPS_RHmax)==list(index_LDAPS_RHmin)==list(index_Tmax_lapse)==list(index_Tmin_lapse)==list(index_LDAPS_WS)==list(index_LDAPS_LH)==list(index_LDAPS_CC1)==list(index_LDAPS_CC2)==list(index_LDAPS_CC3)==list(index_LDAPS_CC4)==list(index_LDAPS_PPT1)==list(index_LDAPS_PPT2)==list(index_LDAPS_PPT3)==list(index_LDAPS_PPT4):\n",
    "    print('Lists are identical')\n",
    "else:print('Unidentical lists')\n",
    "    \n"
   ]
  },
  {
   "cell_type": "code",
   "execution_count": null,
   "metadata": {},
   "outputs": [],
   "source": [
    "no_of_stations = 25\n",
    "station = [[] for _ in range(no_of_stations+1)]\n",
    "\n",
    "for i in range(1,len(station)):\n",
    "    station[i] = df.loc[df['station'] == i]"
   ]
  },
  {
   "cell_type": "markdown",
   "metadata": {},
   "source": [
    "since the columns are of float datatype and std is less so null values are filled by mean\n"
   ]
  },
  {
   "cell_type": "code",
   "execution_count": null,
   "metadata": {},
   "outputs": [],
   "source": [
    "for i in range(1,len(station)):\n",
    "    station[i]= station[i].fillna(station[i].mean())"
   ]
  },
  {
   "cell_type": "code",
   "execution_count": null,
   "metadata": {},
   "outputs": [],
   "source": [
    "new_data = pd.DataFrame(columns=['lat','lon'], index=range(0,25))\n",
    "for i in range(0,25):\n",
    "    new_data['lat'][i] = df['lat'][i]\n",
    "    new_data['lon'][i] = df['lon'][i]"
   ]
  },
  {
   "cell_type": "code",
   "execution_count": null,
   "metadata": {},
   "outputs": [],
   "source": [
    "fig,ax=plt.subplots()\n",
    "ax.scatter(new_data['lat'],new_data['lon'],alpha=0.5)\n",
    "plt.title('Geographical location of stations')"
   ]
  },
  {
   "cell_type": "code",
   "execution_count": null,
   "metadata": {},
   "outputs": [],
   "source": [
    "labels=[i for i in range(1,len(station))]\n",
    "for i,txt in enumerate(labels):\n",
    "    ax.annotate(txt,(new_data['lat'][i],new_data['lon'][i]))"
   ]
  },
  {
   "cell_type": "code",
   "execution_count": null,
   "metadata": {},
   "outputs": [],
   "source": [
    "#This shows the varaition of Present Max temp at a station throughout 2013 to 2016\n",
    "for i in range(1,len(station)):\n",
    "\n",
    "    plt.rcParams.update({'font.size': 5})\n",
    "    ncols = 2\n",
    "    nrows = 2"
   ]
  },
  {
   "cell_type": "code",
   "execution_count": null,
   "metadata": {},
   "outputs": [],
   "source": [
    "fig, axes = plt.subplots(nrows=nrows, ncols=ncols)\n",
    "fig.suptitle('Next Max temp at station {}'.format(i))\n",
    "years = [2013,2014,2015,2016]\n",
    "\n",
    "for ax, j in zip(axes.flatten(), years):\n",
    "        ax.plot(station[i].loc[station[i]['Year']==j]['Next_Tmax'], linewidth=0.75)\n",
    "        ax.title.set_text('Year {}'.format(j))\n",
    "\n",
    "for ax in axes.flatten():\n",
    "        ax.set_xticks([])\n",
    "        ax.tick_params(axis='y', labelsize=5) "
   ]
  },
  {
   "cell_type": "code",
   "execution_count": null,
   "metadata": {},
   "outputs": [],
   "source": [
    "#This shows the variation of Present Max temp at all stations in a particular year\n",
    "years = [2013,2014,2015,2016]\n",
    "for j in years:\n",
    "\n",
    "    #plt.rcParams.update({'font.size:5'})\n",
    "    ncols = 5\n",
    "    nrows = 5\n",
    "\n",
    "    fig, axes = plt.subplots(nrows=nrows, ncols=ncols)\n",
    "    fig.suptitle('Year {}'.format(j))\n",
    "    i = range(1,26)\n",
    "\n",
    "    for ax, i in zip(axes.flatten(), i):\n",
    "        ax.plot(station[i].loc[station[i]['Year']==j]['Next_Tmax'], linewidth=0.75)\n",
    "        ax.title.set_text('Station {}'.format(i))\n",
    "\n",
    "    for ax in axes.flatten():\n",
    "        ax.set_xticks([])\n",
    "        ax.tick_params(axis='y', labelsize=5)\n",
    "\n",
    "    fig.tight_layout(rect=[0, 0.03, 1, 0.95])\n",
    "    #plt.tight_layout()"
   ]
  },
  {
   "cell_type": "markdown",
   "metadata": {},
   "source": [
    "From above, it can be seen that in a particular year, the trend shown by Present Max temp at \n",
    "#all stations looks to be same. Assuming that this is same with other temp trends also, let us \n",
    "#evaluate the Next_Tmax and Next_Tmin in 2017 "
   ]
  },
  {
   "cell_type": "code",
   "execution_count": null,
   "metadata": {},
   "outputs": [],
   "source": [
    "#let's predict the Next_Tmax and Next_Tmin for 2017 at station-1 \n",
    "train = station[1].loc[station[1]['Year']!=2017]  \n",
    "valid = station[1].loc[station[1]['Year']==2017]\n"
   ]
  },
  {
   "cell_type": "code",
   "execution_count": null,
   "metadata": {},
   "outputs": [],
   "source": [
    "train = train.drop(['station','lat','lon','DEM','Slope','Year','Month','Day'], axis=1)\n",
    "valid = valid.drop(['station','lat','lon','DEM','Slope','Year','Month','Day'], axis=1)"
   ]
  },
  {
   "cell_type": "code",
   "execution_count": null,
   "metadata": {},
   "outputs": [],
   "source": [
    "X_train = train.iloc[:, :-2].values\n",
    "Y_train_Tmax = train.iloc[:, [-2]].values\n",
    "Y_train_Tmin = train.iloc[:, [-1]].values"
   ]
  },
  {
   "cell_type": "code",
   "execution_count": null,
   "metadata": {},
   "outputs": [],
   "source": [
    "X_test = valid.iloc[:, :-2].values\n",
    "Y_test_Tmax = valid.iloc[:, [-2]].values\n",
    "Y_test_Tmin = valid.iloc[:, [-1]].values"
   ]
  },
  {
   "cell_type": "code",
   "execution_count": 17,
   "metadata": {},
   "outputs": [
    {
     "ename": "NameError",
     "evalue": "name 'X_train' is not defined",
     "output_type": "error",
     "traceback": [
      "\u001b[1;31m---------------------------------------------------------------------------\u001b[0m",
      "\u001b[1;31mNameError\u001b[0m                                 Traceback (most recent call last)",
      "\u001b[1;32m<ipython-input-17-e0a3935e8c1d>\u001b[0m in \u001b[0;36m<module>\u001b[1;34m\u001b[0m\n\u001b[0;32m      2\u001b[0m \u001b[1;32mfrom\u001b[0m \u001b[0msklearn\u001b[0m\u001b[1;33m.\u001b[0m\u001b[0mpreprocessing\u001b[0m \u001b[1;32mimport\u001b[0m \u001b[0mMinMaxScaler\u001b[0m\u001b[1;33m\u001b[0m\u001b[1;33m\u001b[0m\u001b[0m\n\u001b[0;32m      3\u001b[0m \u001b[0mscaler\u001b[0m \u001b[1;33m=\u001b[0m \u001b[0mMinMaxScaler\u001b[0m\u001b[1;33m(\u001b[0m\u001b[0mfeature_range\u001b[0m\u001b[1;33m=\u001b[0m\u001b[1;33m(\u001b[0m\u001b[1;36m0\u001b[0m\u001b[1;33m,\u001b[0m\u001b[1;36m1\u001b[0m\u001b[1;33m)\u001b[0m\u001b[1;33m)\u001b[0m\u001b[1;33m\u001b[0m\u001b[1;33m\u001b[0m\u001b[0m\n\u001b[1;32m----> 4\u001b[1;33m \u001b[0mscaler\u001b[0m\u001b[1;33m.\u001b[0m\u001b[0mfit\u001b[0m\u001b[1;33m(\u001b[0m\u001b[0mX_train\u001b[0m\u001b[1;33m)\u001b[0m\u001b[1;33m\u001b[0m\u001b[1;33m\u001b[0m\u001b[0m\n\u001b[0m\u001b[0;32m      5\u001b[0m \u001b[0mX_train\u001b[0m \u001b[1;33m=\u001b[0m \u001b[0mscaler\u001b[0m\u001b[1;33m.\u001b[0m\u001b[0mtransform\u001b[0m\u001b[1;33m(\u001b[0m\u001b[0mX_train\u001b[0m\u001b[1;33m)\u001b[0m\u001b[1;33m\u001b[0m\u001b[1;33m\u001b[0m\u001b[0m\n\u001b[0;32m      6\u001b[0m \u001b[0mX_test\u001b[0m  \u001b[1;33m=\u001b[0m \u001b[0mscaler\u001b[0m\u001b[1;33m.\u001b[0m\u001b[0mtransform\u001b[0m\u001b[1;33m(\u001b[0m\u001b[0mX_test\u001b[0m\u001b[1;33m)\u001b[0m\u001b[1;33m\u001b[0m\u001b[1;33m\u001b[0m\u001b[0m\n",
      "\u001b[1;31mNameError\u001b[0m: name 'X_train' is not defined"
     ]
    }
   ],
   "source": [
    "#Normalizing the data\n",
    "from sklearn.preprocessing import MinMaxScaler\n",
    "scaler = MinMaxScaler(feature_range=(0,1))\n",
    "scaler.fit(X_train)\n",
    "X_train = scaler.transform(X_train)\n",
    "X_test  = scaler.transform(X_test)"
   ]
  },
  {
   "cell_type": "markdown",
   "metadata": {},
   "source": [
    "Multiple Linear Regression"
   ]
  },
  {
   "cell_type": "code",
   "execution_count": null,
   "metadata": {},
   "outputs": [],
   "source": [
    "\n",
    "\n",
    "#Multiple Linear Regression\n",
    "from sklearn.linear_model import LinearRegression\n",
    "import statsmodels.api as sm\n",
    "\n",
    "#K-Fold cross validation\n",
    "from sklearn.model_selection import cross_val_score\n",
    "\n",
    "\n",
    "regressor_max = LinearRegression()\n",
    "regressor_max.fit(X_train, Y_train_Tmax)\n",
    "\n",
    "regressor_min = LinearRegression()\n",
    "regressor_min.fit(X_train, Y_train_Tmin)\n",
    "\n",
    "Y_pred_Tmax  = regressor_max.predict(X_test)\n",
    "Y_pred_Tmin  = regressor_min.predict(X_test)\n",
    "#Y_pred_train = regressor.predict(X_train)\n",
    "\n",
    "#K-fold cross validation\n",
    "accuracies_max = cross_val_score(estimator = regressor_max, X = X_train, y = Y_train_Tmax, cv = 10)\n",
    "acc_mean_max = accuracies_max.mean()\n",
    "acc_std_max  = accuracies_max.std()\n",
    "\n",
    "\n",
    "accuracies_min = cross_val_score(estimator = regressor_min, X = X_train, y = Y_train_Tmin, cv = 10)\n",
    "acc_mean_min = accuracies_min.mean()\n",
    "acc_std_min  = accuracies_min.std()\n",
    "\n",
    "kfold = {'acc_mean_max':acc_mean_max, 'acc_std_max':acc_std_max,\n",
    "         'acc_mean_min':acc_mean_min, 'acc_std_min':acc_std_min}"
   ]
  },
  {
   "cell_type": "code",
   "execution_count": 15,
   "metadata": {},
   "outputs": [
    {
     "ename": "NameError",
     "evalue": "name 'X_train' is not defined",
     "output_type": "error",
     "traceback": [
      "\u001b[1;31m---------------------------------------------------------------------------\u001b[0m",
      "\u001b[1;31mNameError\u001b[0m                                 Traceback (most recent call last)",
      "\u001b[1;32m<ipython-input-15-3afa7012bf3b>\u001b[0m in \u001b[0;36m<module>\u001b[1;34m\u001b[0m\n\u001b[0;32m      1\u001b[0m \u001b[1;31m#Backelimination for Tmax\u001b[0m\u001b[1;33m\u001b[0m\u001b[1;33m\u001b[0m\u001b[1;33m\u001b[0m\u001b[0m\n\u001b[1;32m----> 2\u001b[1;33m \u001b[0mX_train_mul\u001b[0m \u001b[1;33m=\u001b[0m \u001b[0mnp\u001b[0m\u001b[1;33m.\u001b[0m\u001b[0mappend\u001b[0m\u001b[1;33m(\u001b[0m\u001b[0marr\u001b[0m \u001b[1;33m=\u001b[0m \u001b[0mnp\u001b[0m\u001b[1;33m.\u001b[0m\u001b[0mones\u001b[0m\u001b[1;33m(\u001b[0m\u001b[1;33m(\u001b[0m\u001b[0mX_train\u001b[0m\u001b[1;33m.\u001b[0m\u001b[0mshape\u001b[0m\u001b[1;33m[\u001b[0m\u001b[1;36m0\u001b[0m\u001b[1;33m]\u001b[0m\u001b[1;33m,\u001b[0m \u001b[1;36m1\u001b[0m\u001b[1;33m)\u001b[0m\u001b[1;33m)\u001b[0m\u001b[1;33m.\u001b[0m\u001b[0mastype\u001b[0m\u001b[1;33m(\u001b[0m\u001b[0mint\u001b[0m\u001b[1;33m)\u001b[0m\u001b[1;33m,\u001b[0m \u001b[0mvalues\u001b[0m \u001b[1;33m=\u001b[0m \u001b[0mX_train\u001b[0m\u001b[1;33m,\u001b[0m \u001b[0maxis\u001b[0m \u001b[1;33m=\u001b[0m \u001b[1;36m1\u001b[0m\u001b[1;33m)\u001b[0m\u001b[1;33m\u001b[0m\u001b[1;33m\u001b[0m\u001b[0m\n\u001b[0m\u001b[0;32m      3\u001b[0m \u001b[0msl\u001b[0m \u001b[1;33m=\u001b[0m \u001b[1;36m0.05\u001b[0m\u001b[1;33m\u001b[0m\u001b[1;33m\u001b[0m\u001b[0m\n\u001b[0;32m      4\u001b[0m \u001b[0marr_max\u001b[0m \u001b[1;33m=\u001b[0m \u001b[1;33m[\u001b[0m\u001b[1;33m]\u001b[0m\u001b[1;33m\u001b[0m\u001b[1;33m\u001b[0m\u001b[0m\n\u001b[0;32m      5\u001b[0m \u001b[0mget_arr_max\u001b[0m \u001b[1;33m=\u001b[0m \u001b[1;33m[\u001b[0m\u001b[1;33m]\u001b[0m\u001b[1;33m\u001b[0m\u001b[1;33m\u001b[0m\u001b[0m\n",
      "\u001b[1;31mNameError\u001b[0m: name 'X_train' is not defined"
     ]
    }
   ],
   "source": [
    "#Backelimination for Tmax\n",
    "X_train_mul = np.append(arr = np.ones((X_train.shape[0], 1)).astype(int), values = X_train, axis = 1)\n",
    "sl = 0.05\n",
    "arr_max = []\n",
    "get_arr_max = []\n",
    "for i in range(0, X_train.shape[1]):\n",
    "    arr_max.append(i)"
   ]
  },
  {
   "cell_type": "code",
   "execution_count": 12,
   "metadata": {},
   "outputs": [
    {
     "ename": "NameError",
     "evalue": "name 'X_train_mul' is not defined",
     "output_type": "error",
     "traceback": [
      "\u001b[1;31m---------------------------------------------------------------------------\u001b[0m",
      "\u001b[1;31mNameError\u001b[0m                                 Traceback (most recent call last)",
      "\u001b[1;32m<ipython-input-12-3ce28f97afe4>\u001b[0m in \u001b[0;36m<module>\u001b[1;34m\u001b[0m\n\u001b[0;32m     22\u001b[0m         \u001b[1;32mreturn\u001b[0m \u001b[0mresults_summary\u001b[0m\u001b[1;33m\u001b[0m\u001b[1;33m\u001b[0m\u001b[0m\n\u001b[0;32m     23\u001b[0m \u001b[1;33m\u001b[0m\u001b[0m\n\u001b[1;32m---> 24\u001b[1;33m \u001b[0msummary_max\u001b[0m \u001b[1;33m=\u001b[0m \u001b[0mbackElimination_Tmax\u001b[0m\u001b[1;33m(\u001b[0m\u001b[0mX_train_mul\u001b[0m\u001b[1;33m,\u001b[0m \u001b[0marr_max\u001b[0m\u001b[1;33m,\u001b[0m \u001b[0mget_arr_max\u001b[0m\u001b[1;33m)\u001b[0m\u001b[1;33m\u001b[0m\u001b[1;33m\u001b[0m\u001b[0m\n\u001b[0m\u001b[0;32m     25\u001b[0m \u001b[1;33m\u001b[0m\u001b[0m\n\u001b[0;32m     26\u001b[0m \u001b[0macc_max\u001b[0m \u001b[1;33m=\u001b[0m \u001b[0mround\u001b[0m\u001b[1;33m(\u001b[0m\u001b[0mregressor_max\u001b[0m\u001b[1;33m.\u001b[0m\u001b[0mscore\u001b[0m\u001b[1;33m(\u001b[0m\u001b[0mX_train\u001b[0m\u001b[1;33m,\u001b[0m \u001b[0mY_train_Tmax\u001b[0m\u001b[1;33m)\u001b[0m\u001b[1;33m*\u001b[0m\u001b[1;36m100\u001b[0m\u001b[1;33m,\u001b[0m \u001b[1;36m2\u001b[0m\u001b[1;33m)\u001b[0m\u001b[1;33m\u001b[0m\u001b[1;33m\u001b[0m\u001b[0m\n",
      "\u001b[1;31mNameError\u001b[0m: name 'X_train_mul' is not defined"
     ]
    }
   ],
   "source": [
    "def backElimination_Tmax(X, arr, get_arr):\n",
    "\n",
    "    X_opt = X[:, arr]\n",
    "    regressor_OLS = sm.OLS(endog = Y_train_Tmax, exog = X_opt).fit()\n",
    "    results_summary = regressor_OLS.summary()\n",
    "\n",
    "    results_as_html = results_summary.tables[1].as_html()\n",
    "    dfs = pd.read_html(results_as_html, header=0, index_col=0)[0]\n",
    "\n",
    "    p_value =  dfs.iloc[:, 3]\n",
    "    p_value_arr = p_value.tolist()\n",
    "    pop_item = False\n",
    "    maxpos  = p_value_arr.index(max(p_value_arr))\n",
    "    if(p_value_arr[maxpos]>sl):\n",
    "        get_arr.append(arr[maxpos])\n",
    "        arr.pop(maxpos)\n",
    "        pop_item = True\n",
    "\n",
    "    if(pop_item): return backElimination_Tmax(X, arr, get_arr)\n",
    "    else: \n",
    "        get_arr.sort()\n",
    "        return results_summary \n",
    "    \n",
    "summary_max = backElimination_Tmax(X_train_mul, arr_max, get_arr_max)\n",
    "\n",
    "acc_max = round(regressor_max.score(X_train, Y_train_Tmax)*100, 2)"
   ]
  },
  {
   "cell_type": "code",
   "execution_count": 18,
   "metadata": {},
   "outputs": [
    {
     "ename": "NameError",
     "evalue": "name 'X_train' is not defined",
     "output_type": "error",
     "traceback": [
      "\u001b[1;31m---------------------------------------------------------------------------\u001b[0m",
      "\u001b[1;31mNameError\u001b[0m                                 Traceback (most recent call last)",
      "\u001b[1;32m<ipython-input-18-f7d6496a9f17>\u001b[0m in \u001b[0;36m<module>\u001b[1;34m\u001b[0m\n\u001b[0;32m      1\u001b[0m \u001b[1;31m#Backelimination for Tmin\u001b[0m\u001b[1;33m\u001b[0m\u001b[1;33m\u001b[0m\u001b[1;33m\u001b[0m\u001b[0m\n\u001b[0;32m      2\u001b[0m \u001b[1;33m\u001b[0m\u001b[0m\n\u001b[1;32m----> 3\u001b[1;33m \u001b[0mX_train_mul\u001b[0m \u001b[1;33m=\u001b[0m \u001b[0mnp\u001b[0m\u001b[1;33m.\u001b[0m\u001b[0mappend\u001b[0m\u001b[1;33m(\u001b[0m\u001b[0marr\u001b[0m \u001b[1;33m=\u001b[0m \u001b[0mnp\u001b[0m\u001b[1;33m.\u001b[0m\u001b[0mones\u001b[0m\u001b[1;33m(\u001b[0m\u001b[1;33m(\u001b[0m\u001b[0mX_train\u001b[0m\u001b[1;33m.\u001b[0m\u001b[0mshape\u001b[0m\u001b[1;33m[\u001b[0m\u001b[1;36m0\u001b[0m\u001b[1;33m]\u001b[0m\u001b[1;33m,\u001b[0m \u001b[1;36m1\u001b[0m\u001b[1;33m)\u001b[0m\u001b[1;33m)\u001b[0m\u001b[1;33m.\u001b[0m\u001b[0mastype\u001b[0m\u001b[1;33m(\u001b[0m\u001b[0mint\u001b[0m\u001b[1;33m)\u001b[0m\u001b[1;33m,\u001b[0m \u001b[0mvalues\u001b[0m \u001b[1;33m=\u001b[0m \u001b[0mX_train\u001b[0m\u001b[1;33m,\u001b[0m \u001b[0maxis\u001b[0m \u001b[1;33m=\u001b[0m \u001b[1;36m1\u001b[0m\u001b[1;33m)\u001b[0m\u001b[1;33m\u001b[0m\u001b[1;33m\u001b[0m\u001b[0m\n\u001b[0m\u001b[0;32m      4\u001b[0m \u001b[0msl\u001b[0m \u001b[1;33m=\u001b[0m \u001b[1;36m0.05\u001b[0m\u001b[1;33m\u001b[0m\u001b[1;33m\u001b[0m\u001b[0m\n\u001b[0;32m      5\u001b[0m \u001b[0marr_min\u001b[0m \u001b[1;33m=\u001b[0m \u001b[1;33m[\u001b[0m\u001b[1;33m]\u001b[0m\u001b[1;33m\u001b[0m\u001b[1;33m\u001b[0m\u001b[0m\n",
      "\u001b[1;31mNameError\u001b[0m: name 'X_train' is not defined"
     ]
    }
   ],
   "source": [
    "#Backelimination for Tmin\n",
    "\n",
    "X_train_mul = np.append(arr = np.ones((X_train.shape[0], 1)).astype(int), values = X_train, axis = 1)\n",
    "sl = 0.05\n",
    "arr_min = []\n",
    "get_arr_min = []\n",
    "for i in range(0, X_train.shape[1]):\n",
    "    arr_min.append(i)"
   ]
  },
  {
   "cell_type": "code",
   "execution_count": null,
   "metadata": {},
   "outputs": [],
   "source": []
  }
 ],
 "metadata": {
  "kernelspec": {
   "display_name": "Python 3",
   "language": "python",
   "name": "python3"
  },
  "language_info": {
   "codemirror_mode": {
    "name": "ipython",
    "version": 3
   },
   "file_extension": ".py",
   "mimetype": "text/x-python",
   "name": "python",
   "nbconvert_exporter": "python",
   "pygments_lexer": "ipython3",
   "version": "3.8.5"
  }
 },
 "nbformat": 4,
 "nbformat_minor": 4
}
